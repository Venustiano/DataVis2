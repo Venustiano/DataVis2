{
 "cells": [
  {
   "cell_type": "code",
   "execution_count": 1,
   "id": "7b442019-5089-4545-9cb4-b88663a4a163",
   "metadata": {
    "tags": []
   },
   "outputs": [
    {
     "name": "stderr",
     "output_type": "stream",
     "text": [
      "/opt/conda/lib/python3.10/site-packages/rpy2/robjects/lib/ggplot2.py:70: UserWarning: This was designed againt ggplot2 versions starting with 3.3. but you have 3.5\n",
      "  warnings.warn(\n"
     ]
    },
    {
     "name": "stdout",
     "output_type": "stream",
     "text": [
      "Data dir does not exist!\n",
      "Successfully created the data directory /home/jovyan/.local/share/dsp/0.0.1 \n"
     ]
    }
   ],
   "source": [
    "import sys; \n",
    "# sys.path.insert(0, '/home/src')\n",
    "import datavis_app as dapp\n",
    "gui = dapp.dsp_app()\n"
   ]
  },
  {
   "cell_type": "code",
   "execution_count": 2,
   "id": "378901e7-d568-42d8-bf96-f1a8205e8bad",
   "metadata": {
    "tags": []
   },
   "outputs": [
    {
     "data": {
      "application/vnd.jupyter.widget-view+json": {
       "model_id": "f333aff9b7ca40ee8ea80128520fd2e0",
       "version_major": 2,
       "version_minor": 0
      },
      "text/plain": [
       "AppLayout(children=(HTML(value='<h1>Reproducible results and reusable techniques</h1>', layout=Layout(grid_are…"
      ]
     },
     "metadata": {},
     "output_type": "display_data"
    }
   ],
   "source": [
    "gui.run_app()"
   ]
  }
 ],
 "metadata": {
  "kernelspec": {
   "display_name": "Python 3 (ipykernel)",
   "language": "python",
   "name": "python3"
  },
  "language_info": {
   "codemirror_mode": {
    "name": "ipython",
    "version": 3
   },
   "file_extension": ".py",
   "mimetype": "text/x-python",
   "name": "python",
   "nbconvert_exporter": "python",
   "pygments_lexer": "ipython3",
   "version": "3.10.8"
  }
 },
 "nbformat": 4,
 "nbformat_minor": 5
}
