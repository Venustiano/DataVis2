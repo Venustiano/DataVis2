{
 "cells": [
  {
   "cell_type": "markdown",
   "id": "ec3f2ae8-4c48-41a1-b12f-7b6e8b3f5b05",
   "metadata": {},
   "source": [
    "### Libraries"
   ]
  },
  {
   "cell_type": "code",
   "execution_count": 1,
   "id": "79406c33-fa83-4dbe-9634-6762eef609e0",
   "metadata": {
    "tags": []
   },
   "outputs": [
    {
     "name": "stderr",
     "output_type": "stream",
     "text": [
      "Loading required package: cowplot\n",
      "\n",
      "Loading required package: colorspace\n",
      "\n",
      "Loading required package: colorblindr\n",
      "\n",
      "Loading required package: ggplot2\n",
      "\n",
      "Loading required package: dplyr\n",
      "\n",
      "\n",
      "Attaching package: ‘dplyr’\n",
      "\n",
      "\n",
      "The following objects are masked from ‘package:stats’:\n",
      "\n",
      "    filter, lag\n",
      "\n",
      "\n",
      "The following objects are masked from ‘package:base’:\n",
      "\n",
      "    intersect, setdiff, setequal, union\n",
      "\n",
      "\n",
      "\n",
      "Attaching package: ‘dviz.supp’\n",
      "\n",
      "\n",
      "The following objects are masked from ‘package:cowplot’:\n",
      "\n",
      "    plot_grid, stamp, stamp_bad, stamp_good, stamp_ugly, stamp_wrong\n",
      "\n",
      "\n",
      "The following object is masked from ‘package:datasets’:\n",
      "\n",
      "    CO2\n",
      "\n",
      "\n",
      "\n",
      "Attaching package: ‘lubridate’\n",
      "\n",
      "\n",
      "The following object is masked from ‘package:dviz.supp’:\n",
      "\n",
      "    stamp\n",
      "\n",
      "\n",
      "The following object is masked from ‘package:cowplot’:\n",
      "\n",
      "    stamp\n",
      "\n",
      "\n",
      "The following objects are masked from ‘package:base’:\n",
      "\n",
      "    date, intersect, setdiff, union\n",
      "\n",
      "\n"
     ]
    }
   ],
   "source": [
    "library(dviz.supp)\n",
    "library(forcats)\n",
    "# library(patchwork)\n",
    "library(lubridate)"
   ]
  },
  {
   "cell_type": "markdown",
   "id": "044776ac-9671-4e31-b9b1-07052468236e",
   "metadata": {},
   "source": [
    "### Data preprocessing"
   ]
  },
  {
   "cell_type": "code",
   "execution_count": 2,
   "id": "a1419417-54ab-4710-82cd-f127b7afeb5f",
   "metadata": {
    "tags": []
   },
   "outputs": [
    {
     "data": {
      "text/html": [
       "<table class=\"dataframe\">\n",
       "<caption>A tibble: 6 × 7</caption>\n",
       "<thead>\n",
       "\t<tr><th scope=col>station_id</th><th scope=col>month</th><th scope=col>day</th><th scope=col>temperature</th><th scope=col>flag</th><th scope=col>date</th><th scope=col>location</th></tr>\n",
       "\t<tr><th scope=col>&lt;chr&gt;</th><th scope=col>&lt;chr&gt;</th><th scope=col>&lt;chr&gt;</th><th scope=col>&lt;dbl&gt;</th><th scope=col>&lt;chr&gt;</th><th scope=col>&lt;date&gt;</th><th scope=col>&lt;fct&gt;</th></tr>\n",
       "</thead>\n",
       "<tbody>\n",
       "\t<tr><td>USC00042319</td><td>01</td><td>1</td><td>51.0</td><td>S</td><td>0-01-01</td><td>Death Valley</td></tr>\n",
       "\t<tr><td>USC00042319</td><td>01</td><td>2</td><td>51.2</td><td>S</td><td>0-01-02</td><td>Death Valley</td></tr>\n",
       "\t<tr><td>USC00042319</td><td>01</td><td>3</td><td>51.3</td><td>S</td><td>0-01-03</td><td>Death Valley</td></tr>\n",
       "\t<tr><td>USC00042319</td><td>01</td><td>4</td><td>51.4</td><td>S</td><td>0-01-04</td><td>Death Valley</td></tr>\n",
       "\t<tr><td>USC00042319</td><td>01</td><td>5</td><td>51.6</td><td>S</td><td>0-01-05</td><td>Death Valley</td></tr>\n",
       "\t<tr><td>USC00042319</td><td>01</td><td>6</td><td>51.7</td><td>S</td><td>0-01-06</td><td>Death Valley</td></tr>\n",
       "</tbody>\n",
       "</table>\n"
      ],
      "text/latex": [
       "A tibble: 6 × 7\n",
       "\\begin{tabular}{lllllll}\n",
       " station\\_id & month & day & temperature & flag & date & location\\\\\n",
       " <chr> & <chr> & <chr> & <dbl> & <chr> & <date> & <fct>\\\\\n",
       "\\hline\n",
       "\t USC00042319 & 01 & 1 & 51.0 & S & 0-01-01 & Death Valley\\\\\n",
       "\t USC00042319 & 01 & 2 & 51.2 & S & 0-01-02 & Death Valley\\\\\n",
       "\t USC00042319 & 01 & 3 & 51.3 & S & 0-01-03 & Death Valley\\\\\n",
       "\t USC00042319 & 01 & 4 & 51.4 & S & 0-01-04 & Death Valley\\\\\n",
       "\t USC00042319 & 01 & 5 & 51.6 & S & 0-01-05 & Death Valley\\\\\n",
       "\t USC00042319 & 01 & 6 & 51.7 & S & 0-01-06 & Death Valley\\\\\n",
       "\\end{tabular}\n"
      ],
      "text/markdown": [
       "\n",
       "A tibble: 6 × 7\n",
       "\n",
       "| station_id &lt;chr&gt; | month &lt;chr&gt; | day &lt;chr&gt; | temperature &lt;dbl&gt; | flag &lt;chr&gt; | date &lt;date&gt; | location &lt;fct&gt; |\n",
       "|---|---|---|---|---|---|---|\n",
       "| USC00042319 | 01 | 1 | 51.0 | S | 0-01-01 | Death Valley |\n",
       "| USC00042319 | 01 | 2 | 51.2 | S | 0-01-02 | Death Valley |\n",
       "| USC00042319 | 01 | 3 | 51.3 | S | 0-01-03 | Death Valley |\n",
       "| USC00042319 | 01 | 4 | 51.4 | S | 0-01-04 | Death Valley |\n",
       "| USC00042319 | 01 | 5 | 51.6 | S | 0-01-05 | Death Valley |\n",
       "| USC00042319 | 01 | 6 | 51.7 | S | 0-01-06 | Death Valley |\n",
       "\n"
      ],
      "text/plain": [
       "  station_id  month day temperature flag date    location    \n",
       "1 USC00042319 01    1   51.0        S    0-01-01 Death Valley\n",
       "2 USC00042319 01    2   51.2        S    0-01-02 Death Valley\n",
       "3 USC00042319 01    3   51.3        S    0-01-03 Death Valley\n",
       "4 USC00042319 01    4   51.4        S    0-01-04 Death Valley\n",
       "5 USC00042319 01    5   51.6        S    0-01-05 Death Valley\n",
       "6 USC00042319 01    6   51.7        S    0-01-06 Death Valley"
      ]
     },
     "metadata": {},
     "output_type": "display_data"
    }
   ],
   "source": [
    "temps_long <- filter(ncdc_normals,\n",
    "                station_id %in% c(\n",
    "                  \"USW00014819\", # Chicago, IL 60638\n",
    "                  #\"USC00516128\", # Honolulu, HI 96813\n",
    "                  #\"USW00027502\", # Barrow, AK 99723, coldest point in the US\n",
    "                  \"USC00042319\", # Death Valley, CA 92328 hottest point in the US\n",
    "                  \"USW00093107\", # San Diego, CA 92145\n",
    "                  #\"USC00427606\"  # Salt Lake City, UT 84103\n",
    "                  \"USW00012918\" # Houston, TX 77061\n",
    "                )) %>%\n",
    "  mutate(location = fct_recode(factor(station_id),\n",
    "                               \"Chicago\" = \"USW00014819\",\n",
    "                               #\"Honolulu, HI\" = \"USC00516128\",\n",
    "                               #\"Barrow, AK\" = \"USW00027502\",\n",
    "                               \"Death Valley\" = \"USC00042319\",\n",
    "                               \"San Diego\" = \"USW00093107\",\n",
    "                               #\"Salt Lake City, UT\" = \"USC00427606\",\n",
    "                               \"Houston\" = \"USW00012918\")) %>%\n",
    "  mutate(location = factor(location, levels = c(\"Death Valley\", \"Houston\", \"San Diego\", \"Chicago\")))\n",
    "\n",
    "head(temps_long)"
   ]
  },
  {
   "cell_type": "markdown",
   "id": "286a20b7-b738-4890-b6fe-88f8e288e516",
   "metadata": {
    "tags": []
   },
   "source": [
    "### Plot"
   ]
  },
  {
   "cell_type": "code",
   "execution_count": 3,
   "id": "8a4acd2f-6562-4e90-a3be-773d331f2ed0",
   "metadata": {
    "tags": []
   },
   "outputs": [],
   "source": [
    "tikz_plot <- ggplot(temps_long, aes(x = date, y = temperature, color = location)) +\n",
    "  geom_line(linewidth = 1) +\n",
    "  scale_x_date(name = \"month\", \n",
    "               limits = c(ymd(\"0000-01-01\"), ymd(\"0001-01-04\")),\n",
    "               breaks = c(ymd(\"0000-01-01\"), ymd(\"0000-04-01\"), ymd(\"0000-07-01\"),\n",
    "                          ymd(\"0000-10-01\"), ymd(\"0001-01-01\")),\n",
    "               labels = c(\"Jan\", \"Apr\", \"Jul\", \"Oct\", \"Jan\"), expand = c(1/366, 0)) + \n",
    "  scale_y_continuous(limits = c(19.9, 107),\n",
    "                     breaks = seq(20, 100, by = 20),\n",
    "                     name = \"temperature (°F)\") +\n",
    "  scale_color_OkabeIto(order = c(1:3, 7), name = NULL) +\n",
    "  theme_dviz_grid() +\n",
    "  theme(legend.title.align = 0.5)"
   ]
  },
  {
   "cell_type": "markdown",
   "id": "2f1b720c-9915-4f26-b374-681ace68ca48",
   "metadata": {
    "tags": []
   },
   "source": [
    "### Save the plot using LaTex Tikz"
   ]
  },
  {
   "cell_type": "code",
   "execution_count": 4,
   "id": "668ca583-906e-4719-9eff-d8fbbe0613ef",
   "metadata": {
    "tags": []
   },
   "outputs": [],
   "source": [
    "# library\n",
    "library(tikzDevice)"
   ]
  },
  {
   "cell_type": "code",
   "execution_count": 5,
   "id": "b769df0b-8149-492e-8beb-35ff70821ab0",
   "metadata": {
    "tags": []
   },
   "outputs": [
    {
     "name": "stdout",
     "output_type": "stream",
     "text": [
      "[1] \"Creating tex file ...\"\n"
     ]
    },
    {
     "data": {
      "text/html": [
       "<strong>png:</strong> 2"
      ],
      "text/latex": [
       "\\textbf{png:} 2"
      ],
      "text/markdown": [
       "**png:** 2"
      ],
      "text/plain": [
       "png \n",
       "  2 "
      ]
     },
     "metadata": {},
     "output_type": "display_data"
    },
    {
     "name": "stdout",
     "output_type": "stream",
     "text": [
      "[1] \"Creating pdf file ...\"\n"
     ]
    },
    {
     "data": {
      "text/html": [
       "'temperature_plot_tikz.pdf'"
      ],
      "text/latex": [
       "'temperature\\_plot\\_tikz.pdf'"
      ],
      "text/markdown": [
       "'temperature_plot_tikz.pdf'"
      ],
      "text/plain": [
       "[1] \"temperature_plot_tikz.pdf\""
      ]
     },
     "metadata": {},
     "output_type": "display_data"
    },
    {
     "name": "stdout",
     "output_type": "stream",
     "text": [
      "[1] \"Plot created\"\n"
     ]
    }
   ],
   "source": [
    "print(\"Creating tex file ...\")\n",
    "\n",
    "tex_file = \"temperature_plot_tikz.tex\"\n",
    "\n",
    "# Create a .tex file that will contain your plot as vectors\n",
    "# You need to set the size of your plot here in inches\n",
    "tikz(file = tex_file, width = 7, height = 5, standAlone= TRUE, engine=\"luatex\")\n",
    "    \n",
    "    # the plot\n",
    "    tikz_plot\n",
    "\n",
    "# Necessary to close or the tikxDevice .tex file will not be written\n",
    "dev.off()\n",
    "\n",
    "print(\"Creating pdf file ...\")\n",
    "\n",
    "tinytex::lualatex(tex_file)\n",
    "\n",
    "print(\"Plot created\")"
   ]
  },
  {
   "cell_type": "code",
   "execution_count": null,
   "id": "25f3897d-58da-4874-8745-9b3d919a9b07",
   "metadata": {},
   "outputs": [],
   "source": []
  }
 ],
 "metadata": {
  "kernelspec": {
   "display_name": "R",
   "language": "R",
   "name": "ir"
  },
  "language_info": {
   "codemirror_mode": "r",
   "file_extension": ".r",
   "mimetype": "text/x-r-source",
   "name": "R",
   "pygments_lexer": "r",
   "version": "4.2.2"
  }
 },
 "nbformat": 4,
 "nbformat_minor": 5
}
