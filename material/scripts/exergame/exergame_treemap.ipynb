{
 "cells": [
  {
   "cell_type": "markdown",
   "id": "7baa5aaa-ad81-4653-adee-a5dde2db3ecb",
   "metadata": {},
   "source": [
    "## Python Libraries"
   ]
  },
  {
   "cell_type": "code",
   "execution_count": null,
   "id": "b19cfcf2-fc78-4b62-9c06-f9d1118b28af",
   "metadata": {
    "tags": []
   },
   "outputs": [],
   "source": [
    "# Importing the packages\n",
    "import plotly.express as px\n",
    "import pandas as pd"
   ]
  },
  {
   "cell_type": "markdown",
   "id": "e7b26ad8-a06a-4dfb-93d7-857cf8576ea8",
   "metadata": {},
   "source": [
    "## Data"
   ]
  },
  {
   "cell_type": "code",
   "execution_count": null,
   "id": "3fa1f059-6f46-4df7-933d-ed01f3f00a27",
   "metadata": {
    "tags": []
   },
   "outputs": [],
   "source": [
    "# Loading and displaying the data\n",
    "tableRes = pd.read_csv('../data/exergamewf.csv')\n",
    "\n",
    "tableRes[\"Participants\"] = \"Participants\" # in order to have a single root node\n",
    "tableRes[\"ppt\"] = tableRes[\"iSubj\"].astype(str)\n",
    "tableRes[\"strial\"] = tableRes[\"trial\"].astype(str)\n",
    "tableRes.head()"
   ]
  },
  {
   "cell_type": "markdown",
   "id": "051e7d3b-e169-4fe5-8663-2b54ea7ab117",
   "metadata": {},
   "source": [
    "## Plot"
   ]
  },
  {
   "cell_type": "code",
   "execution_count": null,
   "id": "e6ff7072-8797-46be-aae0-263c84e37e84",
   "metadata": {
    "tags": []
   },
   "outputs": [],
   "source": [
    "fig = px.treemap(tableRes, path=['Participants', 'iSubj', 'trial'], values='Age',\n",
    "                   color='medSpeed', \n",
    "#                 hover_data=['Age'],\n",
    "#                 Try a diverging color scale,\n",
    "#                 color_continuous_scale=['#bdd7e7','#6baed6','#3182bd','#08519c']\n",
    "                 color_continuous_scale=['#d7191c','#fdae61','#ffffbf','#abd9e9','#2c7bb6']\n",
    "                 \n",
    "                  #color_continuous_midpoint=np.average(df['lifeExp'], weights=df['pop'])\n",
    "                )\n",
    "fig.update_layout(\n",
    "    autosize=False,width=1200,height=600);\n",
    "\n",
    "fig.show()"
   ]
  }
 ],
 "metadata": {
  "kernelspec": {
   "display_name": "Python 3 (ipykernel)",
   "language": "python",
   "name": "python3"
  },
  "language_info": {
   "codemirror_mode": {
    "name": "ipython",
    "version": 3
   },
   "file_extension": ".py",
   "mimetype": "text/x-python",
   "name": "python",
   "nbconvert_exporter": "python",
   "pygments_lexer": "ipython3",
   "version": "3.10.8"
  }
 },
 "nbformat": 4,
 "nbformat_minor": 5
}
